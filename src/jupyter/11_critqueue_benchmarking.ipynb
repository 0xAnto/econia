{
 "cells": [
  {
   "cell_type": "markdown",
   "id": "862037f9",
   "metadata": {},
   "source": [
    "# Imports "
   ]
  },
  {
   "cell_type": "code",
   "execution_count": null,
   "id": "9f3b432e",
   "metadata": {},
   "outputs": [],
   "source": [
    "from aptos_sdk.account import Account\n",
    "from aptos_sdk.bcs import Serializer\n",
    "from aptos_sdk.client import RestClient, FaucetClient\n",
    "from aptos_sdk.transactions import (\n",
    "    EntryFunction,\n",
    "    ModuleId,\n",
    "    TransactionArgument as TxArg,\n",
    "    TransactionPayload as TxPayload)\n",
    "from aptos_sdk.type_tag import StructTag\n",
    "from typing import Any, Dict"
   ]
  },
  {
   "cell_type": "markdown",
   "id": "b241e06d",
   "metadata": {},
   "source": [
    "# Account via keyfile"
   ]
  },
  {
   "cell_type": "code",
   "execution_count": null,
   "id": "2e7ac4a9",
   "metadata": {},
   "outputs": [],
   "source": [
    "# Relative path to hot keyfile for testing only.\n",
    "# File should contain hex key only.\n",
    "key_file = '../../.secrets/2f4418ed678986669b22ca40c66\\\n",
    "4aa04707cacc5a326b47f0b4d540dff05e4c1.key'\n",
    "with open(key_file) as f: # Open file.\n",
    "    key = f.readline().rstrip() # Get key.\n",
    "# Get account from key.\n",
    "account = Account.load_key(key)\n",
    "# Print account address in hex.\n",
    "account.address().hex()"
   ]
  },
  {
   "cell_type": "markdown",
   "id": "6f308bb9",
   "metadata": {},
   "source": [
    "# REST Client "
   ]
  },
  {
   "cell_type": "code",
   "execution_count": null,
   "id": "4942f58b",
   "metadata": {},
   "outputs": [],
   "source": [
    "# Declare base URL for testnet REST API.\n",
    "client_url = 'https://fullnode.testnet.aptoslabs.com/v1'\n",
    "# Declare base URL for faucet.\n",
    "faucet_url = 'https://faucet.testnet.aptoslabs.com'\n",
    "# Initialize client.\n",
    "client = RestClient(client_url)\n",
    "# Initialize faucet.\n",
    "faucet = FaucetClient(faucet_url, client)\n",
    "# Get account balance\n",
    "client.account_balance(account.address())"
   ]
  },
  {
   "cell_type": "code",
   "execution_count": null,
   "id": "5c69b803",
   "metadata": {},
   "outputs": [],
   "source": [
    "# Fund from the faucet\n",
    "faucet.fund_account(account.address().hex(), 1000000)"
   ]
  },
  {
   "cell_type": "code",
   "execution_count": null,
   "id": "2e6997f9",
   "metadata": {},
   "outputs": [],
   "source": [
    "# Get account balance\n",
    "client.account_balance(account.address())"
   ]
  },
  {
   "cell_type": "code",
   "execution_count": null,
   "id": "dc98cf84",
   "metadata": {},
   "outputs": [],
   "source": [
    "def execute(function: str, args: list) -> str:\n",
    "    \"\"\"Call entry function with args, returning tx hash\n",
    "    \n",
    "    args should be of format\n",
    "    [[4, Serializer.u64], [2, Serializer.u128]]\n",
    "    \"\"\"\n",
    "    # Construct entry function payload.\n",
    "    payload = EntryFunction.natural(\n",
    "        str(module_id),\n",
    "        function,\n",
    "        [],\n",
    "        [TxArg(a[0], a[1]) for a in args])\n",
    "    # Generate a signed transaction from the payload.\n",
    "    signed_tx = client.create_single_signer_bcs_transaction(\n",
    "        account, TxPayload(payload))\n",
    "    # Submit signed transaction, returning transaction ID.\n",
    "    return client.submit_bcs_transaction(signed_tx)"
   ]
  },
  {
   "cell_type": "code",
   "execution_count": null,
   "id": "d8c8ab8d",
   "metadata": {},
   "outputs": [],
   "source": [
    "def get_tx_json(hash: str) -> Dict[str, Any]:\n",
    "    \"\"\"Query a transaction by hash, returning JSON data\"\"\"\n",
    "    while(True):\n",
    "        response = client.client.get(\n",
    "            f'{client.base_url}/transactions/by_hash/{hash}')\n",
    "        # Assert successful response.\n",
    "        assert response.status_code == 200, hash\n",
    "        # If transaction has cleared as user tx:\n",
    "        if response.json()['type'] == 'user_transaction':\n",
    "            # Return its JSON data\n",
    "            return response.json()\n",
    "        # Otherwise try again"
   ]
  },
  {
   "cell_type": "code",
   "execution_count": null,
   "id": "0e010577",
   "metadata": {},
   "outputs": [],
   "source": [
    "def print_tx_url(version: str):\n",
    "    \"\"\"Print URL to transaction view on explorer\"\"\"\n",
    "    explorer = 'https://aptos-explorer.netlify.app'\n",
    "    print(f'{explorer}/txn/{version}')"
   ]
  },
  {
   "cell_type": "code",
   "execution_count": null,
   "id": "07475aa0",
   "metadata": {},
   "outputs": [],
   "source": [
    "def tx_diagnostics(tx_json: Dict[str, Any]):\n",
    "    \"\"\"Print gas used or link to failed tx\"\"\"\n",
    "    if tx_json['success'] == True:\n",
    "        print(f'Gas used: {tx_json[\"gas_used\"]}')\n",
    "    else:\n",
    "        print_tx_url(tx_json['version'])"
   ]
  },
  {
   "cell_type": "markdown",
   "id": "8af529f7",
   "metadata": {},
   "source": [
    "# Crit-queue interface"
   ]
  },
  {
   "cell_type": "code",
   "execution_count": null,
   "id": "25999ed1",
   "metadata": {},
   "outputs": [],
   "source": [
    "def get_access_key(insertion_key: int,\n",
    "                   insertion_count: int) -> int:\n",
    "    \"\"\"Return access key for insertion key/count\"\"\"\n",
    "    return insertion_key << 64 | insertion_count"
   ]
  },
  {
   "cell_type": "code",
   "execution_count": null,
   "id": "ad4a02f6",
   "metadata": {},
   "outputs": [],
   "source": [
    "# Declare module name.\n",
    "module = 'critqueue_benchmark'\n",
    "# Get module ID.\n",
    "module_id = ModuleId(account.address(), module)\n",
    "# Get CritQueueStore struct tag.\n",
    "struct_tag = StructTag(account.address(),\n",
    "                       module,\n",
    "                      'CritQueueStore',\n",
    "                       [])\n",
    "# Check that account has one.\n",
    "client.account_resource(account.address(),\n",
    "                        struct_tag.__str__())"
   ]
  },
  {
   "cell_type": "code",
   "execution_count": null,
   "id": "d2380ff4",
   "metadata": {},
   "outputs": [],
   "source": [
    "def insert(insertion_key: int,\n",
    "           insertion_value: int) -> str:\n",
    "    \"\"\"Insert given key-value insertion pair,\n",
    "    returning tx ID\"\"\"\n",
    "    return execute('insert', [\n",
    "        [insertion_key, Serializer.u64],\n",
    "        [insertion_value, Serializer.u64]\n",
    "    ])"
   ]
  },
  {
   "cell_type": "code",
   "execution_count": null,
   "id": "4fc1f525",
   "metadata": {},
   "outputs": [],
   "source": [
    "def remove(insertion_key: int,\n",
    "           insertion_count: int,\n",
    "           insertion_value_expected: int) -> str:\n",
    "    \"\"\"Remove corresponding key-value insertion pair,\n",
    "    returning tx ID\"\"\"\n",
    "    access_key = get_access_key(\n",
    "        insertion_key, insertion_count)\n",
    "    return execute('remove', [\n",
    "        [access_key, Serializer.u128],\n",
    "        [insertion_value_expected, Serializer.u64]\n",
    "    ])"
   ]
  },
  {
   "cell_type": "code",
   "execution_count": null,
   "id": "adef24c6",
   "metadata": {},
   "outputs": [],
   "source": [
    "def dequeue(insertion_value_expected: int) -> str:\n",
    "    \"\"\"Dequeue, checking insertion value and\n",
    "    returning tx ID\"\"\"\n",
    "    return execute('dequeue', [\n",
    "        [insertion_value_expected, Serializer.u64]\n",
    "    ])"
   ]
  },
  {
   "cell_type": "code",
   "execution_count": null,
   "id": "03105609",
   "metadata": {},
   "outputs": [],
   "source": [
    "def dequeue_all() -> str:\n",
    "    \"\"\"Dequeue all, returning tx ID\"\"\"\n",
    "    return execute('dequeue_all', [])"
   ]
  },
  {
   "cell_type": "code",
   "execution_count": null,
   "id": "fa94dfb6",
   "metadata": {},
   "outputs": [],
   "source": [
    "def reset() -> str:\n",
    "    \"\"\"Reset crit-queue, returning tx ID\"\"\"\n",
    "    return execute('reset', [])"
   ]
  },
  {
   "cell_type": "code",
   "execution_count": null,
   "id": "6ab0539b",
   "metadata": {},
   "outputs": [],
   "source": [
    "# Insert key-value pair.\n",
    "tx_diagnostics(get_tx_json(insert(10, 1)))"
   ]
  },
  {
   "cell_type": "code",
   "execution_count": null,
   "id": "996d950d",
   "metadata": {},
   "outputs": [],
   "source": [
    "# Try removing key-value pair.\n",
    "tx_diagnostics(get_tx_json(remove(10, 0, 1)))"
   ]
  },
  {
   "cell_type": "code",
   "execution_count": null,
   "id": "582e269d",
   "metadata": {},
   "outputs": [],
   "source": [
    "# Insert several key-value pairs.\n",
    "for i in range(10):\n",
    "    # Wait until successful.\n",
    "    tx_diagnostics(get_tx_json(insert(10, 1)))\n",
    "# Dequeue.\n",
    "tx_diagnostics(get_tx_json(dequeue(1)))"
   ]
  },
  {
   "cell_type": "code",
   "execution_count": null,
   "id": "5d980823",
   "metadata": {},
   "outputs": [],
   "source": [
    "# Dequeue all\n",
    "tx_diagnostics(get_tx_json(dequeue_all()))"
   ]
  },
  {
   "cell_type": "code",
   "execution_count": null,
   "id": "5dda1ae0",
   "metadata": {},
   "outputs": [],
   "source": [
    "# Reset\n",
    "tx_diagnostics(get_tx_json(reset()))"
   ]
  }
 ],
 "metadata": {
  "kernelspec": {
   "display_name": "Python 3 (ipykernel)",
   "language": "python",
   "name": "python3"
  },
  "language_info": {
   "codemirror_mode": {
    "name": "ipython",
    "version": 3
   },
   "file_extension": ".py",
   "mimetype": "text/x-python",
   "name": "python",
   "nbconvert_exporter": "python",
   "pygments_lexer": "ipython3",
   "version": "3.9.12"
  }
 },
 "nbformat": 4,
 "nbformat_minor": 5
}
